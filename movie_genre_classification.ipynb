{
 "cells": [
  {
   "cell_type": "markdown",
   "id": "50c4d26f-b3c0-4ff5-9f83-60f38a48a1c7",
   "metadata": {},
   "source": [
    "''Create a machine learning model that can predict the genre of a\n",
    "movie based on its plot summary or other textual information. You\n",
    "can use techniques like TF-IDF or word embeddings with classifiers\n",
    "\n",
    "such as Naive Bayes, Logistic Regression, or Support Vector\n",
    "\n",
    "Machines.''"
   ]
  },
  {
   "cell_type": "markdown",
   "id": "5c0f67ce-d92e-49e1-bb30-d1a8086e5d06",
   "metadata": {},
   "source": [
    "IMDb (an acronym for Internet Movie Database) is an online database of information related to films, television programs, home videos, video games, and streaming content online – including cast, production crew and personal biographies, plot summaries, trivia, ratings, and fan and critical reviews. An additional fan feature, message boards, was abandoned in February 2017. Originally a fan-operated website, the database is now owned and operated by IMDb.com, Inc., a subsidiary of Amazon.\n",
    "\n",
    "As of December 2020, IMDb has approximately 7.5 million titles (including episodes) and 10.4 million personalities in its database,[2] as well as 83 million registered users.\n",
    "\n",
    "IMDb began as a movie database on the Usenet group \"rec.arts.movies\" in 1990 and moved to the web in 1993."
   ]
  },
  {
   "cell_type": "code",
   "execution_count": 1,
   "id": "63fbd827-dd93-41f5-926a-67353f5601b8",
   "metadata": {},
   "outputs": [],
   "source": [
    "import numpy as np\n",
    "import pandas as pd"
   ]
  },
  {
   "cell_type": "code",
   "execution_count": 24,
   "id": "52e16fe6-f716-42f9-b2dd-65d49f426efa",
   "metadata": {},
   "outputs": [],
   "source": [
    "def load_data(file_path):\n",
    "    with open(file_path, 'r', encoding='utf-8') as f:\n",
    "        data = f.readlines()\n",
    "    \n",
    "    # Split ke saath hi ID column ko clean karenge\n",
    "    data = [[line.strip().split(':::')[0].replace('\"', '')] + line.strip().split(':::')[1:] for line in data]\n",
    "    \n",
    "    return data\n"
   ]
  },
  {
   "cell_type": "code",
   "execution_count": 25,
   "id": "4fab1fdf-8563-4db9-a0d8-5b73311ba19e",
   "metadata": {},
   "outputs": [],
   "source": [
    "# read trainn data\n",
    "train = load_data('train_data.csv')\n",
    "train=pd.DataFrame(train,columns=[\"ID\",\"TITLE\",\"GENRE\",\"DESCRIPTION\"])  \n",
    "\n",
    "\n",
    "# read test data\n",
    "test = load_data('test_data.csv') \n",
    "test=pd.DataFrame(test,columns=[\"ID\",\"TITLE\",\"DESCRIPTION\"])  \n",
    "\n",
    "\n",
    "# read test solution data\n",
    "test_solution_data = load_data('test_data_solution.csv')\n",
    "test_solution_data=pd.DataFrame(test_solution_data,columns=[\"ID\",\"TITLE\",\"GENRE\",\"DESCRIPTION\"])  \n"
   ]
  },
  {
   "cell_type": "code",
   "execution_count": 26,
   "id": "633553f6-c49e-48f5-9941-ebdcf9d14b1e",
   "metadata": {},
   "outputs": [
    {
     "data": {
      "text/html": [
       "<div>\n",
       "<style scoped>\n",
       "    .dataframe tbody tr th:only-of-type {\n",
       "        vertical-align: middle;\n",
       "    }\n",
       "\n",
       "    .dataframe tbody tr th {\n",
       "        vertical-align: top;\n",
       "    }\n",
       "\n",
       "    .dataframe thead th {\n",
       "        text-align: right;\n",
       "    }\n",
       "</style>\n",
       "<table border=\"1\" class=\"dataframe\">\n",
       "  <thead>\n",
       "    <tr style=\"text-align: right;\">\n",
       "      <th></th>\n",
       "      <th>ID</th>\n",
       "      <th>TITLE</th>\n",
       "      <th>GENRE</th>\n",
       "      <th>DESCRIPTION</th>\n",
       "    </tr>\n",
       "  </thead>\n",
       "  <tbody>\n",
       "    <tr>\n",
       "      <th>0</th>\n",
       "      <td>1</td>\n",
       "      <td>Oscar et la dame rose (2009)</td>\n",
       "      <td>drama</td>\n",
       "      <td>Listening in to a conversation between his do...</td>\n",
       "    </tr>\n",
       "    <tr>\n",
       "      <th>1</th>\n",
       "      <td>2</td>\n",
       "      <td>Cupid (1997)</td>\n",
       "      <td>thriller</td>\n",
       "      <td>A brother and sister with a past incestuous r...</td>\n",
       "    </tr>\n",
       "    <tr>\n",
       "      <th>2</th>\n",
       "      <td>3</td>\n",
       "      <td>Young, Wild and Wonderful (1980)</td>\n",
       "      <td>adult</td>\n",
       "      <td>As the bus empties the students for their fie...</td>\n",
       "    </tr>\n",
       "    <tr>\n",
       "      <th>3</th>\n",
       "      <td>4</td>\n",
       "      <td>The Secret Sin (1915)</td>\n",
       "      <td>drama</td>\n",
       "      <td>To help their unemployed father make ends mee...</td>\n",
       "    </tr>\n",
       "    <tr>\n",
       "      <th>4</th>\n",
       "      <td>5</td>\n",
       "      <td>The Unrecovered (2007)</td>\n",
       "      <td>drama</td>\n",
       "      <td>The film's title refers not only to the un-re...</td>\n",
       "    </tr>\n",
       "  </tbody>\n",
       "</table>\n",
       "</div>"
      ],
      "text/plain": [
       "   ID                               TITLE       GENRE  \\\n",
       "0  1        Oscar et la dame rose (2009)       drama    \n",
       "1  2                        Cupid (1997)    thriller    \n",
       "2  3    Young, Wild and Wonderful (1980)       adult    \n",
       "3  4               The Secret Sin (1915)       drama    \n",
       "4  5              The Unrecovered (2007)       drama    \n",
       "\n",
       "                                         DESCRIPTION  \n",
       "0   Listening in to a conversation between his do...  \n",
       "1   A brother and sister with a past incestuous r...  \n",
       "2   As the bus empties the students for their fie...  \n",
       "3   To help their unemployed father make ends mee...  \n",
       "4   The film's title refers not only to the un-re...  "
      ]
     },
     "execution_count": 26,
     "metadata": {},
     "output_type": "execute_result"
    }
   ],
   "source": [
    "# train data\n",
    "train.head()"
   ]
  },
  {
   "cell_type": "code",
   "execution_count": 27,
   "id": "2b7ca71a-bd2f-4fc1-9c46-e3dc2bef19a1",
   "metadata": {},
   "outputs": [
    {
     "data": {
      "text/html": [
       "<div>\n",
       "<style scoped>\n",
       "    .dataframe tbody tr th:only-of-type {\n",
       "        vertical-align: middle;\n",
       "    }\n",
       "\n",
       "    .dataframe tbody tr th {\n",
       "        vertical-align: top;\n",
       "    }\n",
       "\n",
       "    .dataframe thead th {\n",
       "        text-align: right;\n",
       "    }\n",
       "</style>\n",
       "<table border=\"1\" class=\"dataframe\">\n",
       "  <thead>\n",
       "    <tr style=\"text-align: right;\">\n",
       "      <th></th>\n",
       "      <th>ID</th>\n",
       "      <th>TITLE</th>\n",
       "      <th>DESCRIPTION</th>\n",
       "    </tr>\n",
       "  </thead>\n",
       "  <tbody>\n",
       "    <tr>\n",
       "      <th>0</th>\n",
       "      <td>1</td>\n",
       "      <td>Edgar's Lunch (1998)</td>\n",
       "      <td>L.R. Brane loves his life - his car, his apar...</td>\n",
       "    </tr>\n",
       "    <tr>\n",
       "      <th>1</th>\n",
       "      <td>2</td>\n",
       "      <td>La guerra de papá (1977)</td>\n",
       "      <td>Spain, March 1964: Quico is a very naughty ch...</td>\n",
       "    </tr>\n",
       "    <tr>\n",
       "      <th>2</th>\n",
       "      <td>3</td>\n",
       "      <td>Off the Beaten Track (2010)</td>\n",
       "      <td>One year in the life of Albin and his family ...</td>\n",
       "    </tr>\n",
       "    <tr>\n",
       "      <th>3</th>\n",
       "      <td>4</td>\n",
       "      <td>Meu Amigo Hindu (2015)</td>\n",
       "      <td>His father has died, he hasn't spoken with hi...</td>\n",
       "    </tr>\n",
       "    <tr>\n",
       "      <th>4</th>\n",
       "      <td>5</td>\n",
       "      <td>Er nu zhai (1955)</td>\n",
       "      <td>Before he was known internationally as a mart...</td>\n",
       "    </tr>\n",
       "  </tbody>\n",
       "</table>\n",
       "</div>"
      ],
      "text/plain": [
       "   ID                          TITLE  \\\n",
       "0  1           Edgar's Lunch (1998)    \n",
       "1  2       La guerra de papá (1977)    \n",
       "2  3    Off the Beaten Track (2010)    \n",
       "3  4         Meu Amigo Hindu (2015)    \n",
       "4  5              Er nu zhai (1955)    \n",
       "\n",
       "                                         DESCRIPTION  \n",
       "0   L.R. Brane loves his life - his car, his apar...  \n",
       "1   Spain, March 1964: Quico is a very naughty ch...  \n",
       "2   One year in the life of Albin and his family ...  \n",
       "3   His father has died, he hasn't spoken with hi...  \n",
       "4   Before he was known internationally as a mart...  "
      ]
     },
     "execution_count": 27,
     "metadata": {},
     "output_type": "execute_result"
    }
   ],
   "source": [
    "# test data\n",
    "test.head()"
   ]
  },
  {
   "cell_type": "code",
   "execution_count": 28,
   "id": "aac54e43-fd7e-4916-b313-00954f981b40",
   "metadata": {},
   "outputs": [
    {
     "data": {
      "text/html": [
       "<div>\n",
       "<style scoped>\n",
       "    .dataframe tbody tr th:only-of-type {\n",
       "        vertical-align: middle;\n",
       "    }\n",
       "\n",
       "    .dataframe tbody tr th {\n",
       "        vertical-align: top;\n",
       "    }\n",
       "\n",
       "    .dataframe thead th {\n",
       "        text-align: right;\n",
       "    }\n",
       "</style>\n",
       "<table border=\"1\" class=\"dataframe\">\n",
       "  <thead>\n",
       "    <tr style=\"text-align: right;\">\n",
       "      <th></th>\n",
       "      <th>ID</th>\n",
       "      <th>TITLE</th>\n",
       "      <th>GENRE</th>\n",
       "      <th>DESCRIPTION</th>\n",
       "    </tr>\n",
       "  </thead>\n",
       "  <tbody>\n",
       "    <tr>\n",
       "      <th>0</th>\n",
       "      <td>1</td>\n",
       "      <td>Edgar's Lunch (1998)</td>\n",
       "      <td>thriller</td>\n",
       "      <td>L.R. Brane loves his life - his car, his apar...</td>\n",
       "    </tr>\n",
       "    <tr>\n",
       "      <th>1</th>\n",
       "      <td>2</td>\n",
       "      <td>La guerra de papá (1977)</td>\n",
       "      <td>comedy</td>\n",
       "      <td>Spain, March 1964: Quico is a very naughty ch...</td>\n",
       "    </tr>\n",
       "    <tr>\n",
       "      <th>2</th>\n",
       "      <td>3</td>\n",
       "      <td>Off the Beaten Track (2010)</td>\n",
       "      <td>documentary</td>\n",
       "      <td>One year in the life of Albin and his family ...</td>\n",
       "    </tr>\n",
       "    <tr>\n",
       "      <th>3</th>\n",
       "      <td>4</td>\n",
       "      <td>Meu Amigo Hindu (2015)</td>\n",
       "      <td>drama</td>\n",
       "      <td>His father has died, he hasn't spoken with hi...</td>\n",
       "    </tr>\n",
       "    <tr>\n",
       "      <th>4</th>\n",
       "      <td>5</td>\n",
       "      <td>Er nu zhai (1955)</td>\n",
       "      <td>drama</td>\n",
       "      <td>Before he was known internationally as a mart...</td>\n",
       "    </tr>\n",
       "    <tr>\n",
       "      <th>...</th>\n",
       "      <td>...</td>\n",
       "      <td>...</td>\n",
       "      <td>...</td>\n",
       "      <td>...</td>\n",
       "    </tr>\n",
       "    <tr>\n",
       "      <th>54195</th>\n",
       "      <td>54196</td>\n",
       "      <td>\"\"Tales of Light &amp; Dark\"\" (2013)</td>\n",
       "      <td>horror</td>\n",
       "      <td>Covering multiple genres, Tales of Light &amp; Da...</td>\n",
       "    </tr>\n",
       "    <tr>\n",
       "      <th>54196</th>\n",
       "      <td>54197</td>\n",
       "      <td>Der letzte Mohikaner (1965)</td>\n",
       "      <td>western</td>\n",
       "      <td>As Alice and Cora Munro attempt to find their...</td>\n",
       "    </tr>\n",
       "    <tr>\n",
       "      <th>54197</th>\n",
       "      <td>54198</td>\n",
       "      <td>Oliver Twink (2007)</td>\n",
       "      <td>adult</td>\n",
       "      <td>A movie 169 years in the making. Oliver Twist...</td>\n",
       "    </tr>\n",
       "    <tr>\n",
       "      <th>54198</th>\n",
       "      <td>54199</td>\n",
       "      <td>Slipstream (1973)</td>\n",
       "      <td>drama</td>\n",
       "      <td>Popular, but mysterious rock D.J Mike Mallard...</td>\n",
       "    </tr>\n",
       "    <tr>\n",
       "      <th>54199</th>\n",
       "      <td>54200</td>\n",
       "      <td>Curitiba Zero Grau (2010)</td>\n",
       "      <td>drama</td>\n",
       "      <td>Curitiba is a city in movement, with rhythms ...</td>\n",
       "    </tr>\n",
       "  </tbody>\n",
       "</table>\n",
       "<p>54200 rows × 4 columns</p>\n",
       "</div>"
      ],
      "text/plain": [
       "           ID                               TITLE          GENRE  \\\n",
       "0          1                Edgar's Lunch (1998)       thriller    \n",
       "1          2            La guerra de papá (1977)         comedy    \n",
       "2          3         Off the Beaten Track (2010)    documentary    \n",
       "3          4              Meu Amigo Hindu (2015)          drama    \n",
       "4          5                   Er nu zhai (1955)          drama    \n",
       "...       ...                                 ...            ...   \n",
       "54195  54196    \"\"Tales of Light & Dark\"\" (2013)         horror    \n",
       "54196  54197         Der letzte Mohikaner (1965)        western    \n",
       "54197  54198                 Oliver Twink (2007)          adult    \n",
       "54198  54199                   Slipstream (1973)          drama    \n",
       "54199  54200           Curitiba Zero Grau (2010)          drama    \n",
       "\n",
       "                                             DESCRIPTION  \n",
       "0       L.R. Brane loves his life - his car, his apar...  \n",
       "1       Spain, March 1964: Quico is a very naughty ch...  \n",
       "2       One year in the life of Albin and his family ...  \n",
       "3       His father has died, he hasn't spoken with hi...  \n",
       "4       Before he was known internationally as a mart...  \n",
       "...                                                  ...  \n",
       "54195   Covering multiple genres, Tales of Light & Da...  \n",
       "54196   As Alice and Cora Munro attempt to find their...  \n",
       "54197   A movie 169 years in the making. Oliver Twist...  \n",
       "54198   Popular, but mysterious rock D.J Mike Mallard...  \n",
       "54199   Curitiba is a city in movement, with rhythms ...  \n",
       "\n",
       "[54200 rows x 4 columns]"
      ]
     },
     "execution_count": 28,
     "metadata": {},
     "output_type": "execute_result"
    }
   ],
   "source": [
    "test_solution_data"
   ]
  },
  {
   "cell_type": "code",
   "execution_count": 29,
   "id": "c17f8591-46d8-4735-bfad-2a296360ecf8",
   "metadata": {},
   "outputs": [
    {
     "data": {
      "text/plain": [
       "ID             0\n",
       "TITLE          0\n",
       "GENRE          0\n",
       "DESCRIPTION    0\n",
       "dtype: int64"
      ]
     },
     "execution_count": 29,
     "metadata": {},
     "output_type": "execute_result"
    }
   ],
   "source": [
    "# check the null value of train data\n",
    "train.isnull().sum()"
   ]
  },
  {
   "cell_type": "code",
   "execution_count": 30,
   "id": "900c2951-abb1-4dec-99a2-c8aa491e84c9",
   "metadata": {},
   "outputs": [
    {
     "data": {
      "text/plain": [
       "ID             0\n",
       "TITLE          0\n",
       "DESCRIPTION    0\n",
       "dtype: int64"
      ]
     },
     "execution_count": 30,
     "metadata": {},
     "output_type": "execute_result"
    }
   ],
   "source": [
    "#check the null value of test data#\n",
    "test.isnull().sum()"
   ]
  },
  {
   "cell_type": "code",
   "execution_count": 31,
   "id": "0c64bd55-b894-47aa-9a63-ae280f973dd8",
   "metadata": {},
   "outputs": [
    {
     "name": "stdout",
     "output_type": "stream",
     "text": [
      "<class 'pandas.core.frame.DataFrame'>\n",
      "RangeIndex: 54214 entries, 0 to 54213\n",
      "Data columns (total 4 columns):\n",
      " #   Column       Non-Null Count  Dtype \n",
      "---  ------       --------------  ----- \n",
      " 0   ID           54214 non-null  object\n",
      " 1   TITLE        54214 non-null  object\n",
      " 2   GENRE        54214 non-null  object\n",
      " 3   DESCRIPTION  54214 non-null  object\n",
      "dtypes: object(4)\n",
      "memory usage: 1.7+ MB\n"
     ]
    }
   ],
   "source": [
    "# check the informamtion \n",
    "train.info()"
   ]
  },
  {
   "cell_type": "code",
   "execution_count": 32,
   "id": "2e18d127-3354-4525-947a-17bebd0fce09",
   "metadata": {},
   "outputs": [
    {
     "name": "stdout",
     "output_type": "stream",
     "text": [
      "<class 'pandas.core.frame.DataFrame'>\n",
      "RangeIndex: 54200 entries, 0 to 54199\n",
      "Data columns (total 3 columns):\n",
      " #   Column       Non-Null Count  Dtype \n",
      "---  ------       --------------  ----- \n",
      " 0   ID           54200 non-null  object\n",
      " 1   TITLE        54200 non-null  object\n",
      " 2   DESCRIPTION  54200 non-null  object\n",
      "dtypes: object(3)\n",
      "memory usage: 1.2+ MB\n"
     ]
    }
   ],
   "source": [
    "test.info()"
   ]
  },
  {
   "cell_type": "code",
   "execution_count": 33,
   "id": "6e4b8525-a828-4044-b712-3eddfb01e015",
   "metadata": {},
   "outputs": [
    {
     "data": {
      "text/plain": [
       "(0, 0)"
      ]
     },
     "execution_count": 33,
     "metadata": {},
     "output_type": "execute_result"
    }
   ],
   "source": [
    "# check the duplicate\n",
    "train.duplicated().sum(),test.duplicated().sum()"
   ]
  },
  {
   "cell_type": "markdown",
   "id": "5c9b1ea5-d6d6-4838-ad7e-fbb1b9c5f260",
   "metadata": {},
   "source": [
    "# EDA"
   ]
  },
  {
   "cell_type": "code",
   "execution_count": 34,
   "id": "a3497164-f526-44fc-b079-eee6cbe4731e",
   "metadata": {},
   "outputs": [
    {
     "data": {
      "text/plain": [
       "GENRE\n",
       "drama           13613\n",
       "documentary     13096\n",
       "comedy           7447\n",
       "short            5073\n",
       "horror           2204\n",
       "thriller         1591\n",
       "action           1315\n",
       "western          1032\n",
       "reality-tv        884\n",
       "family            784\n",
       "adventure         775\n",
       "music             731\n",
       "romance           672\n",
       "sci-fi            647\n",
       "adult             590\n",
       "crime             505\n",
       "animation         498\n",
       "sport             432\n",
       "talk-show         391\n",
       "fantasy           323\n",
       "mystery           319\n",
       "musical           277\n",
       "biography         265\n",
       "history           243\n",
       "game-show         194\n",
       "news              181\n",
       "war               132\n",
       "Name: count, dtype: int64"
      ]
     },
     "execution_count": 34,
     "metadata": {},
     "output_type": "execute_result"
    }
   ],
   "source": [
    "train[\"GENRE\"].value_counts()"
   ]
  },
  {
   "cell_type": "code",
   "execution_count": 35,
   "id": "a7c93abc-1324-4872-9cfb-67748e25aed5",
   "metadata": {},
   "outputs": [
    {
     "data": {
      "text/html": [
       "<div>\n",
       "<style scoped>\n",
       "    .dataframe tbody tr th:only-of-type {\n",
       "        vertical-align: middle;\n",
       "    }\n",
       "\n",
       "    .dataframe tbody tr th {\n",
       "        vertical-align: top;\n",
       "    }\n",
       "\n",
       "    .dataframe thead th {\n",
       "        text-align: right;\n",
       "    }\n",
       "</style>\n",
       "<table border=\"1\" class=\"dataframe\">\n",
       "  <thead>\n",
       "    <tr style=\"text-align: right;\">\n",
       "      <th></th>\n",
       "      <th>ID</th>\n",
       "      <th>TITLE</th>\n",
       "      <th>GENRE</th>\n",
       "      <th>DESCRIPTION</th>\n",
       "    </tr>\n",
       "  </thead>\n",
       "  <tbody>\n",
       "    <tr>\n",
       "      <th>count</th>\n",
       "      <td>54214</td>\n",
       "      <td>54214</td>\n",
       "      <td>54214</td>\n",
       "      <td>54214</td>\n",
       "    </tr>\n",
       "    <tr>\n",
       "      <th>unique</th>\n",
       "      <td>54214</td>\n",
       "      <td>54214</td>\n",
       "      <td>27</td>\n",
       "      <td>54086</td>\n",
       "    </tr>\n",
       "    <tr>\n",
       "      <th>top</th>\n",
       "      <td>1</td>\n",
       "      <td>Oscar et la dame rose (2009)</td>\n",
       "      <td>drama</td>\n",
       "      <td>Grammy - music award of the American academy ...</td>\n",
       "    </tr>\n",
       "    <tr>\n",
       "      <th>freq</th>\n",
       "      <td>1</td>\n",
       "      <td>1</td>\n",
       "      <td>13613</td>\n",
       "      <td>12</td>\n",
       "    </tr>\n",
       "  </tbody>\n",
       "</table>\n",
       "</div>"
      ],
      "text/plain": [
       "           ID                           TITLE    GENRE  \\\n",
       "count   54214                           54214    54214   \n",
       "unique  54214                           54214       27   \n",
       "top        1    Oscar et la dame rose (2009)    drama    \n",
       "freq        1                               1    13613   \n",
       "\n",
       "                                              DESCRIPTION  \n",
       "count                                               54214  \n",
       "unique                                              54086  \n",
       "top      Grammy - music award of the American academy ...  \n",
       "freq                                                   12  "
      ]
     },
     "execution_count": 35,
     "metadata": {},
     "output_type": "execute_result"
    }
   ],
   "source": [
    "train.describe()"
   ]
  },
  {
   "cell_type": "code",
   "execution_count": 36,
   "id": "ed11bf7d-bdcc-4b92-ab7d-d49105956dec",
   "metadata": {},
   "outputs": [
    {
     "data": {
      "text/plain": [
       "<bound method NDFrame.describe of 0               drama \n",
       "1            thriller \n",
       "2               adult \n",
       "3               drama \n",
       "4               drama \n",
       "             ...      \n",
       "54209          comedy \n",
       "54210          horror \n",
       "54211     documentary \n",
       "54212          comedy \n",
       "54213         history \n",
       "Name: GENRE, Length: 54214, dtype: object>"
      ]
     },
     "execution_count": 36,
     "metadata": {},
     "output_type": "execute_result"
    }
   ],
   "source": [
    "train[\"GENRE\"].describe"
   ]
  },
  {
   "cell_type": "code",
   "execution_count": 37,
   "id": "348031e9-d143-403d-bb1a-e5708ec47e07",
   "metadata": {},
   "outputs": [
    {
     "name": "stdout",
     "output_type": "stream",
     "text": [
      "<class 'pandas.core.frame.DataFrame'>\n",
      "RangeIndex: 54214 entries, 0 to 54213\n",
      "Data columns (total 4 columns):\n",
      " #   Column       Non-Null Count  Dtype \n",
      "---  ------       --------------  ----- \n",
      " 0   ID           54214 non-null  object\n",
      " 1   TITLE        54214 non-null  object\n",
      " 2   GENRE        54214 non-null  object\n",
      " 3   DESCRIPTION  54214 non-null  object\n",
      "dtypes: object(4)\n",
      "memory usage: 1.7+ MB\n"
     ]
    }
   ],
   "source": [
    "train.info()"
   ]
  },
  {
   "cell_type": "code",
   "execution_count": 38,
   "id": "bfd92180-8cf5-4953-853c-4a02860b7df7",
   "metadata": {},
   "outputs": [],
   "source": [
    "import matplotlib.pyplot as plt"
   ]
  },
  {
   "cell_type": "code",
   "execution_count": 39,
   "id": "8bd630a2-3e1d-49ee-9a58-c15a58fe2cd3",
   "metadata": {},
   "outputs": [
    {
     "data": {
      "image/png": "[encoded data removed]",
      "text/plain": [
       "<Figure size 800x800 with 1 Axes>"
      ]
     },
     "metadata": {},
     "output_type": "display_data"
    }
   ],
   "source": [
    "plt.figure(figsize=(8,8))\n",
    "plt.pie(train[\"GENRE\"].value_counts(),autopct=\"%0.2f\")\n",
    "plt.show()"
   ]
  },
  {
   "cell_type": "code",
   "execution_count": 40,
   "id": "388f1610-f732-4b83-ac7c-0408bdabc551",
   "metadata": {},
   "outputs": [],
   "source": [
    "import seaborn as sns\n"
   ]
  },
  {
   "cell_type": "code",
   "execution_count": 41,
   "id": "20fadf8d-e58a-40e0-8e80-bcb3416aa0c5",
   "metadata": {},
   "outputs": [
    {
     "data": {
      "image/png": "[encoded data removed]",
      "text/plain": [
       "<Figure size 1600x1600 with 1 Axes>"
      ]
     },
     "metadata": {},
     "output_type": "display_data"
    }
   ],
   "source": [
    "plt.figure(figsize=(16,16))\n",
    "sns.countplot(x=\"GENRE\",data=train)\n",
    "plt.xlabel(\"movie genre\")\n",
    "plt.ylabel(\"count\")\n",
    "plt.show()"
   ]
  },
  {
   "cell_type": "code",
   "execution_count": 42,
   "id": "6b372186-6345-4f8d-8a90-cfb422bfda8b",
   "metadata": {},
   "outputs": [
    {
     "data": {
      "image/png": "[encoded data removed]",
      "text/plain": [
       "<Figure size 1600x1600 with 1 Axes>"
      ]
     },
     "metadata": {},
     "output_type": "display_data"
    }
   ],
   "source": [
    "count1=train[\"GENRE\"].value_counts()\n",
    "plt.figure(figsize=(16,16))\n",
    "sns.barplot(x=count1,y=count1.index,orient=\"h\",color=\"r\")\n",
    "plt.xlabel(\"count genre\")\n",
    "plt.ylabel(\"genre\")\n",
    "plt.show()"
   ]
  },
  {
   "cell_type": "markdown",
   "id": "9bb9c665-44f9-429e-81fc-e94ee8541250",
   "metadata": {},
   "source": [
    "# HANDLING MISSINNG VALUE"
   ]
  },
  {
   "cell_type": "code",
   "execution_count": 43,
   "id": "bcfaa85c-976c-4f69-9d7e-2643ef6d6daf",
   "metadata": {},
   "outputs": [
    {
     "name": "stderr",
     "output_type": "stream",
     "text": [
      "C:\\Users\\DELL\\AppData\\Local\\Temp\\ipykernel_8056\\3983327234.py:3: FutureWarning: A value is trying to be set on a copy of a DataFrame or Series through chained assignment using an inplace method.\n",
      "The behavior will change in pandas 3.0. This inplace method will never work because the intermediate object on which we are setting values always behaves as a copy.\n",
      "\n",
      "For example, when doing 'df[col].method(value, inplace=True)', try using 'df.method({col: value}, inplace=True)' or df[col] = df[col].method(value) instead, to perform the operation inplace on the original object.\n",
      "\n",
      "\n",
      "  train['DESCRIPTION'].fillna(\"\", inplace=True)\n",
      "C:\\Users\\DELL\\AppData\\Local\\Temp\\ipykernel_8056\\3983327234.py:4: FutureWarning: A value is trying to be set on a copy of a DataFrame or Series through chained assignment using an inplace method.\n",
      "The behavior will change in pandas 3.0. This inplace method will never work because the intermediate object on which we are setting values always behaves as a copy.\n",
      "\n",
      "For example, when doing 'df[col].method(value, inplace=True)', try using 'df.method({col: value}, inplace=True)' or df[col] = df[col].method(value) instead, to perform the operation inplace on the original object.\n",
      "\n",
      "\n",
      "  test['DESCRIPTION'].fillna(\"\", inplace=True)\n"
     ]
    }
   ],
   "source": [
    "from sklearn.feature_extraction.text import TfidfVectorizer\n",
    "from sklearn.preprocessing import LabelEncoder\n",
    "train['DESCRIPTION'].fillna(\"\", inplace=True)\n",
    "test['DESCRIPTION'].fillna(\"\", inplace=True)\n",
    "t_v = TfidfVectorizer(stop_words='english', max_features=10000)\n",
    "x = t_v.fit_transform(train['DESCRIPTION'])\n",
    "test = t_v.transform(test['DESCRIPTION'])\n",
    "label_encoder = LabelEncoder()\n",
    "y= label_encoder.fit_transform(train['GENRE'])\n",
    "y_test_solu = label_encoder.transform(test_solution_data['GENRE'])\n",
    "\n",
    "\n"
   ]
  },
  {
   "cell_type": "markdown",
   "id": "122b4032-777e-4aa2-838e-7c8ba3477abb",
   "metadata": {},
   "source": [
    "# train test split"
   ]
  },
  {
   "cell_type": "code",
   "execution_count": 44,
   "id": "91342bdd-186d-4a92-8ffa-b71db3266c9b",
   "metadata": {},
   "outputs": [
    {
     "name": "stdout",
     "output_type": "stream",
     "text": [
      "shape of x_train (43371, 10000)\n",
      "shape of x_val (10843, 10000)\n",
      "shape of y_train (43371,)\n",
      "shape of y_val (10843,)\n"
     ]
    }
   ],
   "source": [
    "# split train and test\n",
    "from sklearn.model_selection import train_test_split\n",
    "x_train,x_val,y_train,y_val=train_test_split(x,y,test_size=0.2,random_state=42)\n",
    "print(\"shape of x_train\",x_train.shape)\n",
    "print(\"shape of x_val\",x_val.shape)\n",
    "print(\"shape of y_train\",y_train.shape)\n",
    "print(\"shape of y_val\",y_val.shape)"
   ]
  },
  {
   "cell_type": "markdown",
   "id": "be639d79-f45a-4a9f-b729-f2a5dd09aaf9",
   "metadata": {},
   "source": [
    "# MODEL BUILDING"
   ]
  },
  {
   "cell_type": "code",
   "execution_count": 45,
   "id": "e632b51b-a08a-471d-809c-d15b6e9d4a92",
   "metadata": {},
   "outputs": [],
   "source": [
    "from sklearn.metrics import classification_report, confusion_matrix,accuracy_score\n"
   ]
  },
  {
   "cell_type": "code",
   "execution_count": 46,
   "id": "ee2e8277-b9a5-408b-bfb3-5665d748dfe7",
   "metadata": {},
   "outputs": [
    {
     "name": "stdout",
     "output_type": "stream",
     "text": [
      "accuraccy score 0.5783454763441852\n",
      "classification report               precision    recall  f1-score   support\n",
      "\n",
      "           0       0.20      0.53      0.29        99\n",
      "           1       0.18      0.80      0.29        25\n",
      "           2       0.10      0.39      0.16        36\n",
      "           3       0.07      0.70      0.12        10\n",
      "           4       0.00      0.00      0.00         0\n",
      "           5       0.58      0.53      0.55      1577\n",
      "           6       0.01      0.33      0.02         3\n",
      "           7       0.87      0.65      0.74      3564\n",
      "           8       0.81      0.53      0.64      4115\n",
      "           9       0.06      0.50      0.11        18\n",
      "          10       0.00      0.00      0.00         1\n",
      "          11       0.40      0.94      0.56        17\n",
      "          12       0.00      0.00      0.00         0\n",
      "          13       0.56      0.68      0.61       357\n",
      "          14       0.38      0.69      0.49        80\n",
      "          15       0.00      0.00      0.00         0\n",
      "          16       0.00      0.00      0.00         0\n",
      "          17       0.03      1.00      0.06         1\n",
      "          18       0.13      0.60      0.21        42\n",
      "          19       0.00      0.00      0.00         1\n",
      "          20       0.15      0.58      0.24        38\n",
      "          21       0.29      0.50      0.37       598\n",
      "          22       0.17      0.67      0.27        24\n",
      "          23       0.06      0.71      0.11         7\n",
      "          24       0.11      0.39      0.17        84\n",
      "          25       0.00      0.00      0.00         0\n",
      "          26       0.69      0.95      0.80       146\n",
      "\n",
      "    accuracy                           0.58     10843\n",
      "   macro avg       0.22      0.47      0.25     10843\n",
      "weighted avg       0.73      0.58      0.63     10843\n",
      "\n"
     ]
    },
    {
     "name": "stderr",
     "output_type": "stream",
     "text": [
      "C:\\Users\\DELL\\AppData\\Roaming\\Python\\Python311\\site-packages\\sklearn\\metrics\\_classification.py:1531: UndefinedMetricWarning: Recall is ill-defined and being set to 0.0 in labels with no true samples. Use `zero_division` parameter to control this behavior.\n",
      "  _warn_prf(average, modifier, f\"{metric.capitalize()} is\", len(result))\n",
      "C:\\Users\\DELL\\AppData\\Roaming\\Python\\Python311\\site-packages\\sklearn\\metrics\\_classification.py:1531: UndefinedMetricWarning: Recall is ill-defined and being set to 0.0 in labels with no true samples. Use `zero_division` parameter to control this behavior.\n",
      "  _warn_prf(average, modifier, f\"{metric.capitalize()} is\", len(result))\n",
      "C:\\Users\\DELL\\AppData\\Roaming\\Python\\Python311\\site-packages\\sklearn\\metrics\\_classification.py:1531: UndefinedMetricWarning: Recall is ill-defined and being set to 0.0 in labels with no true samples. Use `zero_division` parameter to control this behavior.\n",
      "  _warn_prf(average, modifier, f\"{metric.capitalize()} is\", len(result))\n"
     ]
    }
   ],
   "source": [
    "# logistic regression \n",
    "from sklearn.linear_model import LogisticRegression\n",
    "lr=LogisticRegression(max_iter=200, solver='liblinear', C=1)\n",
    "lr.fit(x_train,y_train)\n",
    "y_pred=lr.predict(x_val)\n",
    "print(\"accuraccy score\",accuracy_score(y_pred,y_val))\n",
    "print(\"classification report\",classification_report(y_pred,y_val))\n"
   ]
  },
  {
   "cell_type": "code",
   "execution_count": 47,
   "id": "b26d1416-772e-436e-8519-cfbcd228290f",
   "metadata": {},
   "outputs": [
    {
     "name": "stdout",
     "output_type": "stream",
     "text": [
      "accuraccy score 0.5172000368901596\n"
     ]
    },
    {
     "name": "stderr",
     "output_type": "stream",
     "text": [
      "C:\\Users\\DELL\\AppData\\Roaming\\Python\\Python311\\site-packages\\sklearn\\metrics\\_classification.py:1531: UndefinedMetricWarning: Recall is ill-defined and being set to 0.0 in labels with no true samples. Use `zero_division` parameter to control this behavior.\n",
      "  _warn_prf(average, modifier, f\"{metric.capitalize()} is\", len(result))\n",
      "C:\\Users\\DELL\\AppData\\Roaming\\Python\\Python311\\site-packages\\sklearn\\metrics\\_classification.py:1531: UndefinedMetricWarning: Recall is ill-defined and being set to 0.0 in labels with no true samples. Use `zero_division` parameter to control this behavior.\n",
      "  _warn_prf(average, modifier, f\"{metric.capitalize()} is\", len(result))\n",
      "C:\\Users\\DELL\\AppData\\Roaming\\Python\\Python311\\site-packages\\sklearn\\metrics\\_classification.py:1531: UndefinedMetricWarning: Recall is ill-defined and being set to 0.0 in labels with no true samples. Use `zero_division` parameter to control this behavior.\n",
      "  _warn_prf(average, modifier, f\"{metric.capitalize()} is\", len(result))\n"
     ]
    },
    {
     "name": "stdout",
     "output_type": "stream",
     "text": [
      "classification report               precision    recall  f1-score   support\n",
      "\n",
      "           0       0.03      0.67      0.06        12\n",
      "           1       0.04      0.80      0.07         5\n",
      "           2       0.06      0.57      0.10        14\n",
      "           3       0.00      0.00      0.00         0\n",
      "           4       0.00      0.00      0.00         0\n",
      "           5       0.43      0.51      0.47      1210\n",
      "           6       0.00      0.00      0.00         0\n",
      "           7       0.89      0.57      0.70      4136\n",
      "           8       0.84      0.45      0.59      5039\n",
      "           9       0.00      0.00      0.00         0\n",
      "          10       0.00      0.00      0.00         0\n",
      "          11       0.05      1.00      0.10         2\n",
      "          12       0.00      0.00      0.00         0\n",
      "          13       0.29      0.77      0.42       164\n",
      "          14       0.03      1.00      0.07         5\n",
      "          15       0.00      0.00      0.00         0\n",
      "          16       0.00      0.00      0.00         0\n",
      "          17       0.00      0.00      0.00         0\n",
      "          18       0.00      0.00      0.00         0\n",
      "          19       0.00      0.00      0.00         0\n",
      "          20       0.01      1.00      0.01         1\n",
      "          21       0.09      0.68      0.16       141\n",
      "          22       0.08      0.70      0.14        10\n",
      "          23       0.00      0.00      0.00         0\n",
      "          24       0.01      0.33      0.01         6\n",
      "          25       0.00      0.00      0.00         0\n",
      "          26       0.48      0.99      0.65        98\n",
      "\n",
      "    accuracy                           0.52     10843\n",
      "   macro avg       0.12      0.37      0.13     10843\n",
      "weighted avg       0.79      0.52      0.60     10843\n",
      "\n"
     ]
    }
   ],
   "source": [
    "# multinomial naivy bays \n",
    "from sklearn.naive_bayes import MultinomialNB\n",
    "mlnb=MultinomialNB()\n",
    "mlnb.fit(x_train,y_train)\n",
    "y_pred=mlnb.predict(x_val)\n",
    "print(\"accuraccy score\",accuracy_score(y_pred,y_val))\n",
    "print(\"classification report\",classification_report(y_pred,y_val))"
   ]
  },
  {
   "cell_type": "code",
   "execution_count": 48,
   "id": "67faed01-efad-4225-9ea6-2c871bf354ef",
   "metadata": {},
   "outputs": [],
   "source": [
    "#from sklearn.svm import SVC\n",
    "#svc=SVC()\n",
    "#svc.fit(x_train,y_train)\n",
    "#y_pred=svc.predict(x_val)\n",
    "#print(\"accuraccy score\",accuracy_score(y_pred,y_val))\n",
    "#print(\"classification report\",classification_report(y_pred,y_val))"
   ]
  },
  {
   "cell_type": "markdown",
   "id": "7dea237a-ef46-431a-b5cc-6d777c610a65",
   "metadata": {},
   "source": [
    "# predicted on test data"
   ]
  },
  {
   "cell_type": "code",
   "execution_count": 59,
   "id": "5ebd2327-7e99-4130-a3f3-9d8ff74984d8",
   "metadata": {},
   "outputs": [
    {
     "data": {
      "text/plain": [
       "array([8, 8, 7, ..., 5, 8, 7])"
      ]
     },
     "execution_count": 59,
     "metadata": {},
     "output_type": "execute_result"
    }
   ],
   "source": [
    "x_test_predict=lr.predict(test)\n",
    "x_test_predict"
   ]
  },
  {
   "cell_type": "markdown",
   "id": "4126830c-7a34-4328-ba9c-6a797381b9ec",
   "metadata": {},
   "source": [
    "# model evaluation of compare y_test_soltution and predicted output"
   ]
  },
  {
   "cell_type": "code",
   "execution_count": 65,
   "id": "f266be4b-7b94-4798-9568-f3f5a0a26976",
   "metadata": {},
   "outputs": [
    {
     "name": "stdout",
     "output_type": "stream",
     "text": [
      "Accuracy: 57.79%\n",
      "classification report               precision    recall  f1-score   support\n",
      "\n",
      "           0       0.54      0.23      0.32      1314\n",
      "           1       0.62      0.18      0.28       590\n",
      "           2       0.69      0.15      0.24       775\n",
      "           3       0.61      0.03      0.05       498\n",
      "           4       0.00      0.00      0.00       264\n",
      "           5       0.53      0.57      0.55      7446\n",
      "           6       0.53      0.02      0.03       505\n",
      "           7       0.65      0.87      0.74     13096\n",
      "           8       0.53      0.79      0.63     13612\n",
      "           9       0.59      0.06      0.10       783\n",
      "          10       0.80      0.01      0.02       322\n",
      "          11       0.93      0.46      0.62       193\n",
      "          12       0.00      0.00      0.00       243\n",
      "          13       0.67      0.55      0.60      2204\n",
      "          14       0.72      0.36      0.48       731\n",
      "          15       0.67      0.01      0.01       276\n",
      "          16       0.50      0.00      0.01       318\n",
      "          17       0.86      0.03      0.06       181\n",
      "          18       0.50      0.09      0.16       883\n",
      "          19       0.47      0.01      0.02       672\n",
      "          20       0.61      0.18      0.28       646\n",
      "          21       0.50      0.29      0.36      5072\n",
      "          22       0.75      0.19      0.30       431\n",
      "          23       0.61      0.09      0.15       391\n",
      "          24       0.40      0.09      0.15      1590\n",
      "          25       1.00      0.01      0.02       132\n",
      "          26       0.92      0.69      0.79      1032\n",
      "\n",
      "    accuracy                           0.58     54200\n",
      "   macro avg       0.60      0.22      0.26     54200\n",
      "weighted avg       0.57      0.58      0.53     54200\n",
      "\n"
     ]
    },
    {
     "name": "stderr",
     "output_type": "stream",
     "text": [
      "C:\\Users\\DELL\\AppData\\Roaming\\Python\\Python311\\site-packages\\sklearn\\metrics\\_classification.py:1531: UndefinedMetricWarning: Precision is ill-defined and being set to 0.0 in labels with no predicted samples. Use `zero_division` parameter to control this behavior.\n",
      "  _warn_prf(average, modifier, f\"{metric.capitalize()} is\", len(result))\n",
      "C:\\Users\\DELL\\AppData\\Roaming\\Python\\Python311\\site-packages\\sklearn\\metrics\\_classification.py:1531: UndefinedMetricWarning: Precision is ill-defined and being set to 0.0 in labels with no predicted samples. Use `zero_division` parameter to control this behavior.\n",
      "  _warn_prf(average, modifier, f\"{metric.capitalize()} is\", len(result))\n",
      "C:\\Users\\DELL\\AppData\\Roaming\\Python\\Python311\\site-packages\\sklearn\\metrics\\_classification.py:1531: UndefinedMetricWarning: Precision is ill-defined and being set to 0.0 in labels with no predicted samples. Use `zero_division` parameter to control this behavior.\n",
      "  _warn_prf(average, modifier, f\"{metric.capitalize()} is\", len(result))\n"
     ]
    }
   ],
   "source": [
    "accuracy = accuracy_score(y_test_solu, x_test_predict)\n",
    "print(f'Accuracy: {accuracy:.2%}')\n",
    "print(\"classification report\",classification_report(y_test_solu,x_test_predict))"
   ]
  },
  {
   "cell_type": "markdown",
   "id": "aaaaf4dc-fc8e-4d09-84ca-de12e24f2203",
   "metadata": {},
   "source": [
    "# predicted definition"
   ]
  },
  {
   "cell_type": "code",
   "execution_count": 53,
   "id": "3f4f27d9-76de-4674-a9c0-d28f65a18696",
   "metadata": {},
   "outputs": [],
   "source": [
    "def predict_movie(description):\n",
    "    t_v1 = t_v.transform([description])\n",
    "    pred_label = lr.predict(t_v1)\n",
    "    return label_encoder.inverse_transform(pred_label)[0]"
   ]
  },
  {
   "cell_type": "markdown",
   "id": "2c318edd-764e-43c0-a545-bb4078faefc9",
   "metadata": {},
   "source": [
    "# sample prediction"
   ]
  },
  {
   "cell_type": "code",
   "execution_count": 54,
   "id": "1155fda7-a9f3-4967-935e-91a3ac3229c8",
   "metadata": {},
   "outputs": [
    {
     "name": "stdout",
     "output_type": "stream",
     "text": [
      " drama \n",
      " drama \n"
     ]
    }
   ],
   "source": [
    "sample_des1 = \"A movie where police chases the criminal and shoots him.\"\n",
    "print(predict_movie(sample_des1))\n",
    "\n",
    "sample_descr_2 = \"A movie where a person chases a girl to get married with her but the girl refuses him.\"\n",
    "print(predict_movie(sample_descr_2))"
   ]
  },
  {
   "cell_type": "markdown",
   "id": "a9c6f215-7ff9-4780-a086-da8467b87667",
   "metadata": {},
   "source": [
    "# save model using joblib"
   ]
  },
  {
   "cell_type": "code",
   "execution_count": 63,
   "id": "59b3171c-cad6-4bc2-bce8-2e241ab0d470",
   "metadata": {},
   "outputs": [
    {
     "data": {
      "text/plain": [
       "['model.joblib']"
      ]
     },
     "execution_count": 63,
     "metadata": {},
     "output_type": "execute_result"
    }
   ],
   "source": [
    "import joblib\n",
    "\n",
    "# Model ko save karna\n",
    "joblib.dump(lr, 'model.joblib')\n"
   ]
  },
  {
   "cell_type": "code",
   "execution_count": 64,
   "id": "566181d7-b811-4c85-8451-4138afccf274",
   "metadata": {},
   "outputs": [
    {
     "name": "stdout",
     "output_type": "stream",
     "text": [
      "[8 8 7 8 8]\n"
     ]
    }
   ],
   "source": [
    "# load model\n",
    "import joblib\n",
    "loaded_model = joblib.load('model.joblib')\n",
    "\n",
    "# Prediction ke liye use karo\n",
    "predictions = loaded_model.predict(test)\n",
    "print(predictions[:5])\n"
   ]
  },
  {
   "cell_type": "code",
   "execution_count": null,
   "id": "f29a21bc-9a59-4caf-a7b9-d603f466c48c",
   "metadata": {},
   "outputs": [],
   "source": []
  }
 ],
 "metadata": {
  "kernelspec": {
   "display_name": "Python 3 (ipykernel)",
   "language": "python",
   "name": "python3"
  },
  "language_info": {
   "codemirror_mode": {
    "name": "ipython",
    "version": 3
   },
   "file_extension": ".py",
   "mimetype": "text/x-python",
   "name": "python",
   "nbconvert_exporter": "python",
   "pygments_lexer": "ipython3",
   "version": "3.11.7"
  }
 },
 "nbformat": 4,
 "nbformat_minor": 5
}
